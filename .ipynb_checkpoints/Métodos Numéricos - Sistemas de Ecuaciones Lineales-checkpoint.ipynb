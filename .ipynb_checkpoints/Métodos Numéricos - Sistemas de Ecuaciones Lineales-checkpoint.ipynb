{
 "cells": [
  {
   "cell_type": "markdown",
   "metadata": {},
   "source": [
    "# Sistemas de Ecuaciones Lineales"
   ]
  },
  {
   "cell_type": "markdown",
   "metadata": {},
   "source": [
    "## Método de Gauss-Seidel\n",
    "\n",
    "### Descripción:\n",
    "El método de Gauss-Seidel es un método iterativo utilizado para resolver sistemas de ecuaciones lineales. El método se llama así en honor a los matemáticos alemanes Carl Friedrich Gauss y Philipp Ludwig von Seidel y es similar al método de Jacobi.\n",
    "\n",
    "### Convergencia y Eficacia:\n",
    "Este método es una mejora del método de Jacobi, ya que realiza menos operaciones al calcular las componentes del \n",
    "vectir solución.\n",
    "En cuanto a la convergencia, solamente esta garantizada cuando la matriz es simetrica y definida positiva.\n",
    "\n",
    "### Implementación:"
   ]
  },
  {
   "cell_type": "code",
   "execution_count": 2,
   "metadata": {
    "collapsed": false
   },
   "outputs": [
    {
     "data": {
      "text/plain": [
       "resolver_por_gauss_seidel (generic function with 1 method)"
      ]
     },
     "execution_count": 2,
     "metadata": {},
     "output_type": "execute_result"
    }
   ],
   "source": [
    "function resolver_por_gauss_seidel(A, b, x0, err, maxIter)\n",
    "    N = (size(A))[1] # siendo A una matrix nxm, asumiendo que n = m, el sistema es de nxn\n",
    "  for k = 1:maxIter\n",
    "    x = Real[] #solucion aproximada\n",
    "    sum1 = 0\n",
    "    for j = 2:N\n",
    "      sum1 += A[1,j] * x0[j]\n",
    "    end\n",
    "\n",
    "    x1 = (b[1] - sum1) / A[1,1]\n",
    "    push!(x,x1)\n",
    "\n",
    "    # componentes 2-N-1\n",
    "    for i = 2:(N - 1)\n",
    "      sumAux1 = 0\n",
    "      for j = 1:(i-1)\n",
    "        sumAux1 += A[i,j] * x[j]\n",
    "      end\n",
    "\n",
    "      sumAux2 = 0\n",
    "      for j = (i+1):N\n",
    "        sumAux2 += A[i,j] * xo[j]\n",
    "      end\n",
    "\n",
    "      xi = ( b[i] - sumAux1 - sumAux2) / A[i,i]\n",
    "      push!(x,xi) # agrego la componente xi al vector solucion x\n",
    "    end\n",
    "\n",
    "    # componente N\n",
    "    sumAux3 = 0\n",
    "    for j = 1:(N - 1)\n",
    "      sumAux3 += A[N,j] * x[j]\n",
    "    end\n",
    "    xn = (b[N] - sumAux3) / A[N,N]\n",
    "    push!(x,xn) # agrego componente xn al vector solucion\n",
    "\n",
    "    if norm(x - x0) < err\n",
    "        return x' # x transpuesto\n",
    "    end\n",
    "    x0 = x\n",
    "  end\n",
    "  return \"Se alcanzo el numero maximo de iteraciones!\"\n",
    "end"
   ]
  },
  {
   "cell_type": "markdown",
   "metadata": {},
   "source": [
    "### Caso de Prueba:\n",
    "Se plantea el problema de hallar la solución del sistema $ Ax = b $ dado:\n",
    "* Matriz $ A = \\bigl(\\begin{smallmatrix} 3&1 \\\\ 4&-3 \\end{smallmatrix} \\bigr)$\n",
    "* Vector $ b = \\bigl(\\begin{smallmatrix} 22 \\\\ -1 \\end{smallmatrix} \\bigr)$\n",
    "* Aproximacion Inicial $x_{0} = \\bigl(\\begin{smallmatrix} 3 \\\\ 4 \\end{smallmatrix} \\bigr)$ \n",
    "* Porcentaje de Error \n",
    "* Numero máximo de iteraciones "
   ]
  },
  {
   "cell_type": "code",
   "execution_count": 3,
   "metadata": {
    "collapsed": false
   },
   "outputs": [
    {
     "data": {
      "text/plain": [
       "\"Valores Inicializados\""
      ]
     },
     "execution_count": 3,
     "metadata": {},
     "output_type": "execute_result"
    }
   ],
   "source": [
    "A = [3 1; 4 -3]\n",
    "b = [22;-1]\n",
    "x0 = [3;4]\n",
    "porcentajeDeError = 0.01\n",
    "numeroMaximoDeIteraciones = 30\n",
    "\"Valores Inicializados\""
   ]
  },
  {
   "cell_type": "code",
   "execution_count": 4,
   "metadata": {
    "collapsed": false
   },
   "outputs": [
    {
     "data": {
      "text/plain": [
       "1x2 Array{Real,2}:\n",
       " 5.00152  7.00203"
      ]
     },
     "execution_count": 4,
     "metadata": {},
     "output_type": "execute_result"
    }
   ],
   "source": [
    "resolver_por_gauss_seidel(A,b,x0, porcentajeDeError,numeroMaximoDeIteraciones)"
   ]
  }
 ],
 "metadata": {
  "kernelspec": {
   "display_name": "Julia 0.4.2",
   "language": "julia",
   "name": "julia-0.4"
  },
  "language_info": {
   "file_extension": ".jl",
   "mimetype": "application/julia",
   "name": "julia",
   "version": "0.4.2"
  }
 },
 "nbformat": 4,
 "nbformat_minor": 0
}
