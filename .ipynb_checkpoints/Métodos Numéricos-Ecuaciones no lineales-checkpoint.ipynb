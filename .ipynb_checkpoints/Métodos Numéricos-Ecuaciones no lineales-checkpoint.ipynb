{
 "cells": [
  {
   "cell_type": "markdown",
   "metadata": {},
   "source": [
    "# Métodos Numéricos: Ecuaciones No Lineales "
   ]
  },
  {
   "cell_type": "markdown",
   "metadata": {},
   "source": [
    "## Metodo de Bisección:\n",
    "\n",
    "### Descripción:\n",
    "Este es uno de los métodos más sencillos y de fácil intuición para resolver ecuaciones en una variable basado en el teorema del valor medio.\n",
    "\n",
    "### Convergencia y Eficiencia:\n",
    "Si bien es menos eficiente que el metodo de Newton-Raphson, es mucho mas seguro garantizar la convergencia.\n",
    "El metodo de bisección converge linealmente, por lo que es un poco lento.\n",
    "Es importante aclarar que si existiera mas de 1 raiz en el intervalo entonces el método sigue siendo convergente pero no resulta facil caracterizar hacia que raiz converge.\n",
    "\n",
    "### Algoritmo:\n",
    "\n",
    "### Implementación:\n",
    "``` \n",
    " Calcula una solucion aproximada de f(x) = 0\n",
    " Entrada: funcion f,\n",
    "          numeros a, b tal que f(a) * f(b) < 0,\n",
    "          error aceptable err,\n",
    "          numero maximo de iteraciones maxIter\n",
    " Salida: raiz aproximada c o mensaje de error si se supera el numero de iteraciones.\n",
    " ```"
   ]
  },
  {
   "cell_type": "code",
   "execution_count": 2,
   "metadata": {
    "collapsed": false
   },
   "outputs": [
    {
     "data": {
      "text/plain": [
       "biseccion (generic function with 1 method)"
      ]
     },
     "execution_count": 2,
     "metadata": {},
     "output_type": "execute_result"
    }
   ],
   "source": [
    "function biseccion(a, b, f, err, maxIter)\n",
    "  for i = 1:maxIter\n",
    "    c = (a + b)/2\n",
    "\n",
    "    if (f(c) == 0) || ((b-a)/2 < err)\n",
    "       return c\n",
    "    end\n",
    "\n",
    "    if f(a) * f(c) < 0\n",
    "      b = c\n",
    "    else\n",
    "      a = c\n",
    "    end\n",
    "  end\n",
    "\n",
    "  return \"[Error]: Se ha superado el numero maximo de iteraciones!\"\n",
    "end"
   ]
  },
  {
   "cell_type": "markdown",
   "metadata": {},
   "source": [
    "## Caso de prueba\n",
    "Se prueba el método con: \n",
    "* $f(x) = x^2 - 4$ , de raices [-2,2]\n",
    "* intervalo [0,4]\n",
    "* error = 0.01\n",
    "* numero máximo de iteraciones = 20"
   ]
  },
  {
   "cell_type": "code",
   "execution_count": 9,
   "metadata": {
    "collapsed": false
   },
   "outputs": [
    {
     "data": {
      "text/plain": [
       "\"Valores Inicializados\""
      ]
     },
     "execution_count": 9,
     "metadata": {},
     "output_type": "execute_result"
    }
   ],
   "source": [
    "f(x) = x^2 - 4\n",
    "a = 0\n",
    "b = 4\n",
    "errorPermitido = 0.01\n",
    "maxIter = 20\n",
    "\"Valores Inicializados\""
   ]
  },
  {
   "cell_type": "code",
   "execution_count": 10,
   "metadata": {
    "collapsed": false
   },
   "outputs": [
    {
     "data": {
      "text/plain": [
       "2.0"
      ]
     },
     "execution_count": 10,
     "metadata": {},
     "output_type": "execute_result"
    }
   ],
   "source": [
    "biseccion(a, b, f, errorPermitido, maxIter)"
   ]
  }
 ],
 "metadata": {
  "kernelspec": {
   "display_name": "Julia 0.4.2",
   "language": "julia",
   "name": "julia-0.4"
  },
  "language_info": {
   "file_extension": ".jl",
   "mimetype": "application/julia",
   "name": "julia",
   "version": "0.4.2"
  }
 },
 "nbformat": 4,
 "nbformat_minor": 0
}
