{
 "cells": [
  {
   "cell_type": "markdown",
   "metadata": {
    "collapsed": true
   },
   "source": [
    "# Integración Numérica"
   ]
  },
  {
   "cell_type": "markdown",
   "metadata": {},
   "source": [
    "## Regla del Trapecio\n",
    "\n",
    "### Descripción:\n",
    "La regla del trapecio es un método de integración, es decir, un método para calcular aproximadamente el valor de una integral definida. La regla se basa en aproximar el valor de la integral de f(x) por el de la función lineal, que pasa a través de los puntos (a, f(a)) y (b, f(b)). La integral de ésta es igual al área del trapecio bajo la gráfica de la función lineal.\n",
    "\n",
    "### Implementacion"
   ]
  },
  {
   "cell_type": "code",
   "execution_count": 21,
   "metadata": {
    "collapsed": false
   },
   "outputs": [
    {
     "data": {
      "text/plain": [
       "regla_del_trapecio (generic function with 2 methods)"
      ]
     },
     "execution_count": 21,
     "metadata": {},
     "output_type": "execute_result"
    }
   ],
   "source": [
    "function regla_del_trapecio(f,a, b, n)\n",
    "  h = (b - a) / n\n",
    "  ai0 = f(a) + f(b)\n",
    "  ai = 0\n",
    "  for i = 1:(n-1)\n",
    "        x = a + i * h\n",
    "    ai += f(x)\n",
    "  end\n",
    "  ai = (ai0 + 2 * ai) * h/2\n",
    "  return ai\n",
    "end"
   ]
  },
  {
   "cell_type": "markdown",
   "metadata": {},
   "source": [
    "### Caso de Prueba:\n",
    "* funcion $ f(x) = 3x $\n",
    "* limite inferior = 1\n",
    "* limite superior = 2\n",
    "* numero maximo de iteraciones = 10\n",
    "\n",
    "Se desea calcular $ \\int_1^2\\mathrm{3}{x}\\,\\mathrm{d}x$\n"
   ]
  },
  {
   "cell_type": "code",
   "execution_count": 25,
   "metadata": {
    "collapsed": false
   },
   "outputs": [
    {
     "data": {
      "text/plain": [
       "\"Valores Inicializados\""
      ]
     },
     "execution_count": 25,
     "metadata": {},
     "output_type": "execute_result"
    }
   ],
   "source": [
    "f(x) = 3 * x\n",
    "a = 1\n",
    "b = 2\n",
    "numeroMaximoIteraciones = 10\n",
    "\"Valores Inicializados\""
   ]
  },
  {
   "cell_type": "code",
   "execution_count": 26,
   "metadata": {
    "collapsed": false
   },
   "outputs": [
    {
     "data": {
      "text/plain": [
       "4.5"
      ]
     },
     "execution_count": 26,
     "metadata": {},
     "output_type": "execute_result"
    }
   ],
   "source": [
    "regla_del_trapecio(f,a,b,numeroMaximoIteraciones)"
   ]
  }
 ],
 "metadata": {
  "kernelspec": {
   "display_name": "Julia 0.4.2",
   "language": "julia",
   "name": "julia-0.4"
  },
  "language_info": {
   "file_extension": ".jl",
   "mimetype": "application/julia",
   "name": "julia",
   "version": "0.4.2"
  }
 },
 "nbformat": 4,
 "nbformat_minor": 0
}
